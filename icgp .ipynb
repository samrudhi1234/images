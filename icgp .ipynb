{
 "cells": [
  {
   "cell_type": "code",
   "execution_count": 1,
   "id": "d51f0e48",
   "metadata": {},
   "outputs": [
    {
     "name": "stderr",
     "output_type": "stream",
     "text": [
      "C:\\Users\\samru\\AppData\\Roaming\\Python\\Python310\\site-packages\\transformers\\utils\\generic.py:441: UserWarning: torch.utils._pytree._register_pytree_node is deprecated. Please use torch.utils._pytree.register_pytree_node instead.\n",
      "  _torch_pytree._register_pytree_node(\n",
      "C:\\Users\\samru\\AppData\\Roaming\\Python\\Python310\\site-packages\\transformers\\utils\\generic.py:309: UserWarning: torch.utils._pytree._register_pytree_node is deprecated. Please use torch.utils._pytree.register_pytree_node instead.\n",
      "  _torch_pytree._register_pytree_node(\n"
     ]
    }
   ],
   "source": [
    "import tkinter as tk\n",
    "from tkinter import filedialog\n",
    "from PIL import Image, ImageTk\n",
    "from transformers import BlipProcessor, BlipForConditionalGeneration\n",
    "import nltk\n",
    "from nltk.corpus import stopwords\n"
   ]
  },
  {
   "cell_type": "code",
   "execution_count": 2,
   "id": "cf11b9c4",
   "metadata": {},
   "outputs": [
    {
     "name": "stderr",
     "output_type": "stream",
     "text": [
      "[nltk_data] Downloading package stopwords to\n",
      "[nltk_data]     C:\\Users\\samru\\AppData\\Roaming\\nltk_data...\n",
      "[nltk_data]   Package stopwords is already up-to-date!\n"
     ]
    }
   ],
   "source": [
    "# Ensure you have the stopwords data\n",
    "nltk.download('stopwords')\n",
    "\n",
    "class CaptionApp:\n",
    "    def __init__(self, root):\n",
    "        self.root = root\n",
    "        self.root.title(\"Caption AI App\")\n",
    "\n",
    "        self.image_path = \"\"\n",
    "        self.caption_model = BlipForConditionalGeneration.from_pretrained(\"Salesforce/blip-image-captioning-base\")\n",
    "        self.processor = BlipProcessor.from_pretrained(\"Salesforce/blip-image-captioning-base\")\n",
    "\n",
    "        self.stop_words = set(stopwords.words('english'))\n",
    "\n",
    "        self.create_widgets()\n",
    "\n",
    "    def create_widgets(self):\n",
    "        self.load_button = tk.Button(self.root, text=\"Load Image\", command=self.load_image)\n",
    "        self.load_button.pack(pady=10)\n",
    "\n",
    "        self.image_label = tk.Label(self.root)\n",
    "        self.image_label.pack()\n",
    "\n",
    "        self.caption_button = tk.Button(self.root, text=\"Generate Caption\", command=self.generate_caption)\n",
    "        self.caption_button.pack(pady=10)\n",
    "\n",
    "        self.caption_result = tk.Label(self.root, text=\"\", wraplength=500, justify=\"left\")\n",
    "        self.caption_result.pack()\n",
    "\n",
    "    def load_image(self):\n",
    "        file_path = filedialog.askopenfilename()\n",
    "        if file_path:\n",
    "            self.image_path = file_path\n",
    "            image = Image.open(self.image_path)\n",
    "            image = ImageTk.PhotoImage(image.resize((500, 500), Image.ANTIALIAS))\n",
    "            self.image_label.config(image=image)\n",
    "            self.image_label.image = image\n",
    "\n",
    "    def generate_caption(self):\n",
    "        if self.image_path:\n",
    "            image = Image.open(self.image_path)\n",
    "            inputs = self.processor(images=image, return_tensors=\"pt\")\n",
    "            out = self.caption_model.generate(**inputs)\n",
    "            caption = self.processor.decode(out[0], skip_special_tokens=True)\n",
    "            hashtags = self.generate_hashtags(caption)\n",
    "            enhanced_caption = self.enhance_caption(caption, hashtags)\n",
    "            self.caption_result.config(text=enhanced_caption)\n",
    "        else:\n",
    "            self.caption_result.config(text=\"Please load an image first.\")\n",
    "\n",
    "    def generate_hashtags(self, caption):\n",
    "        # Extract keywords or phrases from the caption\n",
    "        words = caption.split()\n",
    "        keywords = [word.lower() for word in words if word.lower() not in self.stop_words]\n",
    "\n",
    "        # Limit to a certain number of hashtags\n",
    "        keywords = keywords[:4]  # Example: Take first 5 keywords\n",
    "\n",
    "        # Generate hashtags from keywords\n",
    "        hashtags = ['#' + word for word in keywords]\n",
    "\n",
    "        return ' '.join(hashtags)  # Concatenate hashtags into a string\n",
    "\n",
    "    def enhance_caption(self, caption, hashtags):\n",
    "        # Add predefined text to make the caption more engaging for Instagram\n",
    "        additional_text = \"\\n\\nWhat do you think? 📸✨\"\n",
    "        common_hashtags = \"#photography #instadaily #photooftheday #instagood #nature\"\n",
    "\n",
    "        # Create the enhanced caption\n",
    "        enhanced_caption = f\"{caption}{additional_text}\\n\\n{hashtags} {common_hashtags}\"\n",
    "\n",
    "        return enhanced_caption\n"
   ]
  },
  {
   "cell_type": "code",
   "execution_count": 3,
   "id": "c6c079ac",
   "metadata": {},
   "outputs": [
    {
     "name": "stderr",
     "output_type": "stream",
     "text": [
      "C:\\Users\\samru\\AppData\\Local\\Temp\\ipykernel_13080\\649776447.py:35: DeprecationWarning: ANTIALIAS is deprecated and will be removed in Pillow 10 (2023-07-01). Use LANCZOS or Resampling.LANCZOS instead.\n",
      "  image = ImageTk.PhotoImage(image.resize((500, 500), Image.ANTIALIAS))\n",
      "C:\\Users\\samru\\AppData\\Roaming\\Python\\Python310\\site-packages\\transformers\\generation\\utils.py:1355: UserWarning: Using the model-agnostic default `max_length` (=20) to control the generation length. We recommend setting `max_new_tokens` to control the maximum length of the generation.\n",
      "  warnings.warn(\n",
      "C:\\Users\\samru\\AppData\\Roaming\\Python\\Python310\\site-packages\\transformers\\generation\\utils.py:1355: UserWarning: Using the model-agnostic default `max_length` (=20) to control the generation length. We recommend setting `max_new_tokens` to control the maximum length of the generation.\n",
      "  warnings.warn(\n",
      "C:\\Users\\samru\\AppData\\Local\\Temp\\ipykernel_13080\\649776447.py:35: DeprecationWarning: ANTIALIAS is deprecated and will be removed in Pillow 10 (2023-07-01). Use LANCZOS or Resampling.LANCZOS instead.\n",
      "  image = ImageTk.PhotoImage(image.resize((500, 500), Image.ANTIALIAS))\n"
     ]
    }
   ],
   "source": [
    "if __name__ == \"__main__\":\n",
    "    root = tk.Tk()\n",
    "    app = CaptionApp(root)\n",
    "    root.mainloop()\n"
   ]
  },
  {
   "cell_type": "code",
   "execution_count": null,
   "id": "8c94c1e5",
   "metadata": {},
   "outputs": [],
   "source": []
  },
  {
   "cell_type": "code",
   "execution_count": null,
   "id": "a0494ba0",
   "metadata": {},
   "outputs": [],
   "source": []
  }
 ],
 "metadata": {
  "kernelspec": {
   "display_name": "Python 3 (ipykernel)",
   "language": "python",
   "name": "python3"
  },
  "language_info": {
   "codemirror_mode": {
    "name": "ipython",
    "version": 3
   },
   "file_extension": ".py",
   "mimetype": "text/x-python",
   "name": "python",
   "nbconvert_exporter": "python",
   "pygments_lexer": "ipython3",
   "version": "3.10.9"
  }
 },
 "nbformat": 4,
 "nbformat_minor": 5
}
